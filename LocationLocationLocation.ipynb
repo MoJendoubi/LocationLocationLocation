{
 "metadata": {
  "language_info": {
   "codemirror_mode": {
    "name": "ipython",
    "version": 3
   },
   "file_extension": ".py",
   "mimetype": "text/x-python",
   "name": "python",
   "nbconvert_exporter": "python",
   "pygments_lexer": "ipython3",
   "version": 3
  },
  "orig_nbformat": 2,
  "kernelspec": {
   "name": "python_defaultSpec_1596481503866",
   "display_name": "Python 3"
  }
 },
 "nbformat": 4,
 "nbformat_minor": 2,
 "cells": [
  {
   "cell_type": "markdown",
   "metadata": {},
   "source": [
    "Location, Location, Location\n",
    "\n",
    "Notebook used for the capstone project"
   ]
  },
  {
   "cell_type": "code",
   "execution_count": 2,
   "metadata": {
    "tags": []
   },
   "outputs": [
    {
     "output_type": "stream",
     "name": "stdout",
     "text": "Hello Capstone Project Course!\n"
    }
   ],
   "source": [
    "import pandas as pd\n",
    "import numpy as np\n",
    "\n",
    "print(\"Hello Capstone Project Course!\")\n"
   ]
  },
  {
   "cell_type": "markdown",
   "metadata": {},
   "source": [
    "# Introduction générale\n",
    "## Objectif d’apprentissage\n",
    "## Domaines d’application\n",
    "## Votre mission\n",
    "## Prérequis\n",
    "## Ressources"
   ]
  },
  {
   "cell_type": "markdown",
   "metadata": {},
   "source": [
    "# Module 1 : Compréhension du métier"
   ]
  },
  {
   "cell_type": "markdown",
   "metadata": {},
   "source": [
    "## Vue d’ensemble du projet\n",
    "Quel est le problème de l'industrie que vous essayez de résoudre? \n",
    "Comment votre solution sera-t-elle utilisée? Est-ce qu’il y a une solution actuellement en place ?\n",
    "Pourquoi utiliser ML / AI pour résoudre cette tâche? \n",
    "Soyez aussi précis que possible lorsque vous décrivez comment le ML / AI peut apporter de la valeur.\n"
   ]
  },
  {
   "cell_type": "markdown",
   "metadata": {},
   "source": [
    "## « Business Case »\n",
    "Pourquoi est-ce un problème important à résoudre? \n",
    "Justifiez la construction de ce produit en termes d'impact sur les revenus récurrents, la part de marché, la satisfaction des clients et / ou d'autres facteurs de réussite commerciale.\n"
   ]
  },
  {
   "cell_type": "markdown",
   "metadata": {},
   "source": [
    "## Application de ML / AI \n",
    "Quelle tâche précise utiliserez-vous ML / AI pour accomplir? \n",
    "Quel résultat ou objectif d’affaires cherchez-vous à atteindre?\n",
    "\n",
    "Existe-t-il des problèmes comparables? Pouvez-vous réutiliser l'expérience ou les outils? \n",
    "L'expertise humaine est-elle disponible? Comment résoudriez-vous le problème manuellement?\n",
    " Énumérez les hypothèses que vous (ou d'autres) avez faites jusqu'à présent. Vérifiez les hypothèses si possibles.\n"
   ]
  },
  {
   "cell_type": "markdown",
   "metadata": {},
   "source": [
    "## Leviers"
   ]
  },
  {
   "cell_type": "markdown",
   "metadata": {},
   "source": [
    "## Mesures de succès\n",
    "Quelles mesures d’affaires appliquerez-vous pour déterminer le succès de votre produit? Est-ce que ces mesures sont alignées avec les objectifs d’affaire.\n",
    "Les bonnes métriques sont clairement définies et facilement mesurables. Spécifiez comment vous allez établir une valeur de référence pour fournir un point de comparaison.\n"
   ]
  },
  {
   "cell_type": "markdown",
   "metadata": {},
   "source": [
    "## Ressources"
   ]
  },
  {
   "cell_type": "markdown",
   "metadata": {},
   "source": [
    "# Module 2 : Données"
   ]
  },
  {
   "cell_type": "markdown",
   "metadata": {},
   "source": [
    "## Acquisition des données\n",
    "D'où allez-vous vous procurer vos données? \n",
    "Quel est le coût d'acquisition de ces données? \n",
    "Y a-t-il des problèmes d'identification personnelle (PII) ou de sensibilité des données que vous devrez surmonter? Les données seront-elles disponibles sur une base continue ou allez-vous acquérir un grand lot de données qui devront être actualisées?\n"
   ]
  },
  {
   "cell_type": "markdown",
   "metadata": {},
   "source": [
    "## Source des données\n",
    "Convertissez les données dans un format que vous pouvez facilement manipuler (sans modifier les données elles-mêmes).\n",
    "Assurez-vous que les informations sensibles sont supprimées ou protégées (par exemple, anonymisées). \n",
    "Vérifiez la taille et le type de données (séries chronologiques, échantillon, géographique, etc.). \n",
    "Quels biais sont intégrés aux données et comment les améliorer?\n",
    "Échantillonnez un ensemble de test, mettez-le de côté et ne le regardez jamais (pas de data snooping!).\n"
   ]
  },
  {
   "cell_type": "markdown",
   "metadata": {},
   "source": [
    "## Choix des étiquettes de données \n",
    "Quelles étiquettes avez-vous décidé d'ajouter à vos données? Et pourquoi avez-vous choisi ces étiquettes par rapport à toute autre option?\n"
   ]
  },
  {
   "cell_type": "markdown",
   "metadata": {},
   "source": [
    "## Exploration des données\n",
    "Essayez d'obtenir le maximum d’input des experts du domaine\n",
    "Créez une copie des données pour l'exploration (en l'échantillonnant jusqu'à une taille gérable si nécessaire). \n",
    "Étudiez chaque attribut et ses caractéristiques.\n",
    "* Type\n",
    "* % de la valeurs manquantes\n",
    "* Bruit et type de bruit (stochastique, valeurs aberrantes, erreurs d'arrondi, etc.) \n",
    "* Distribution (gaussien, uniforme, logarithmique, etc.)\n",
    "\n",
    "Pour les tâches d'apprentissage supervisé, identifiez les attributs cibles. \n",
    "Visualisez les données. \n",
    "Étudiez les corrélations entre les attributs. \n",
    "Étudiez la façon dont vous résoudriez le problème manuellement. \n",
    "Identifiez les transformations prometteuses que vous voudrez peut-être appliquer.\n",
    "Identifiez les données supplémentaires qui seraient utiles \n",
    "Documentez ce que vous avez appris.\n"
   ]
  },
  {
   "cell_type": "markdown",
   "metadata": {},
   "source": [
    "## Préparation des données\n",
    "### Remarques générales: \n",
    "* Travaillez sur des copies des données (conservez l'ensemble de données d'origine intact). \n",
    "* Écrire des fonctions pour toutes les transformations de données que vous appliquez, pour cinq raisons:\n",
    "* Vous pouvez facilement préparer les données la prochaine fois que vous obtenez un nouvel ensemble de données \n",
    "* Vous pouvez appliquer ces transformations dans de futurs projets \n",
    "* Pour nettoyer et préparer l'ensemble de test \n",
    "* Pour nettoyer et préparer de nouvelles instances de données une fois que votre solution est en production \n",
    "* Pour faciliter le traitement de vos choix de préparation comme des hyperparamètres\n"
   ]
  },
  {
   "cell_type": "markdown",
   "metadata": {},
   "source": [
    "### Nettoyage des données: \n",
    "* Corrigez ou supprimez les valeurs aberrantes (facultatif). \n",
    "* Remplacer les valeurs manquantes (par exemple, avec zéro, moyenne, médiane, imputation) ou supprimez leurs lignes (ou colonnes).\n"
   ]
  },
  {
   "cell_type": "markdown",
   "metadata": {},
   "source": [
    "### Sélection des variables (facultatif): \n",
    "Supprimer les attributs qui ne fournissent aucune information utile pour la tâche. \n"
   ]
  },
  {
   "cell_type": "markdown",
   "metadata": {},
   "source": [
    "### Ingénierie des variables (feature engineering)\n",
    "Le cas échéant: \n",
    "* Discrétiser les variables continues.\n",
    "* Décomposer des attributs (par exemple, catégoriques, date / heure, etc.). \n",
    "* Ajoutez des transformations prometteuses de variables (par exemple, log (x), sqrt (x), x ^ 2, etc.). \n",
    "* Agréger les attributs en de nouvelles variables prometteuses. \n"
   ]
  },
  {
   "cell_type": "markdown",
   "metadata": {},
   "source": [
    "### Mise à l'échelle des variables\n",
    "Standardiser ou normaliser les variables.\n"
   ]
  },
  {
   "cell_type": "markdown",
   "metadata": {},
   "source": [
    "## Ressources\n",
    "* [Pandas_Profiling](https://github.com/pandas-profiling/pandas-profiling)\n",
    "* [Framework for Data Preparation Techniques in Machine Learning](https://machinelearningmastery.com/framework-for-data-preparation-for-machine-learning/)\n"
   ]
  },
  {
   "cell_type": "markdown",
   "metadata": {},
   "source": [
    "# Module 3 : Modèle/Analyse"
   ]
  },
  {
   "cell_type": "markdown",
   "metadata": {},
   "source": [
    "## Ressources pour le produit/modèle\n",
    "Comment allez-vous établir les ressources dont vous avez besoin?\n",
    "Allez-vous sous-traiter la création et / ou l'hébergement de modèles à une plate-forme externe, ou allez-vous construire le modèle en utilisant une équipe interne, et pourquoi?\n"
   ]
  },
  {
   "cell_type": "markdown",
   "metadata": {},
   "source": [
    "## Construction du modèle\n",
    "### Remarques\n",
    "* Si les données sont énormes, vous voudrez peut-être échantillonner des ensembles d'entraînement plus petits afin de pouvoir former de nombreux modèles différents dans un délai raisonnable (sachez que cela pénalise les modèles complexes tels que les grands réseaux de neurones ou les forêts aléatoires). • \n",
    "* Encore une fois, essayez d'automatiser autant que possible ces étapes.\n"
   ]
  },
  {
   "cell_type": "markdown",
   "metadata": {},
   "source": [
    "### Modèles de base\n",
    "Entrainer de nombreux modèles de bases rapides et de différentes catégories (par exemple, Bayes linéaires, naïfs, SVM, Forêts aléatoires, réseau neuronal, etc.) en utilisant des paramètres standard. \n"
   ]
  },
  {
   "cell_type": "markdown",
   "metadata": {},
   "source": [
    "### Mesurez et comparez leurs performances.\n",
    "Pour chaque modèle, utilisez la validation croisée N fois et calculez la moyenne et l'écart type de la mesure de performance sur les N plis (folds). \n"
   ]
  },
  {
   "cell_type": "markdown",
   "metadata": {},
   "source": [
    "### Importance des variables\n",
    "Analysez les variables les plus significatives pour chaque algorithme. \n"
   ]
  },
  {
   "cell_type": "markdown",
   "metadata": {},
   "source": [
    "### Analyse des erreurs\n",
    "* Analysez les types d'erreurs que les modèles font.\n",
    "* Quelles données un humain aurait-il utilisées pour éviter ces erreurs? \n"
   ]
  },
  {
   "cell_type": "markdown",
   "metadata": {},
   "source": [
    "### Sélection et ingénierie des variables\n",
    "Faites un tour rapide de la sélection et de l'ingénierie des variables.\n"
   ]
  },
  {
   "cell_type": "markdown",
   "metadata": {},
   "source": [
    "### Itération\n",
    "Faites une ou deux itérations rapides supplémentaires des cinq étapes précédentes. \n"
   ]
  },
  {
   "cell_type": "markdown",
   "metadata": {},
   "source": [
    "### Présélection de modèles\n",
    "Présélectionnez les trois à cinq modèles les plus prometteurs, préférant les modèles qui font différents types d'erreurs.\n"
   ]
  },
  {
   "cell_type": "markdown",
   "metadata": {},
   "source": [
    "## 'Fine Tuning' du Systeme\n",
    "### Remarques\n",
    "* Vous souhaiterez utiliser autant de données que possible pour cette étape, surtout lorsque vous vous dirigez vers la fin du réglage\n",
    "* Comme toujours, penser à automatisez ce que vous pouvez.\n"
   ]
  },
  {
   "cell_type": "markdown",
   "metadata": {},
   "source": [
    "### Affinez les hyperparamètres\n",
    "* Utiliser la validation croisée.\n",
    "* Traitez vos choix de transformation de données comme des hyperparamètres, surtout lorsque vous n'êtes pas sûr d'eux (par exemple, dois-je remplacer les valeurs manquantes par zéro ou par la valeur médiane? Ou simplement supprimer les lignes?). \n",
    "* À moins qu'il n'y ait très peu de valeurs hyperparamétriques à explorer, préférez la recherche aléatoire à la recherche sur la grille. Si la formation est très longue, vous pouvez préférer une approche d'optimisation bayésienne) \n"
   ]
  },
  {
   "cell_type": "markdown",
   "metadata": {},
   "source": [
    "### Essayez les méthodes d'ensemble. \n",
    "La combinaison de vos meilleurs modèles fonctionnera souvent mieux que de les exécuter individuellement.\n"
   ]
  },
  {
   "cell_type": "markdown",
   "metadata": {},
   "source": [
    "## Évaluation des résultats\n",
    "Une fois que vous êtes sûr de votre modèle final, mesurez ses performances sur l'ensemble de test pour estimer l'erreur de généralisation.\n",
    "Quelles mesures de performance du modèle sont appropriées pour mesurer son succès? Quel niveau de performance est requis?\n"
   ]
  },
  {
   "cell_type": "markdown",
   "metadata": {},
   "source": [
    "## Interprétabilité et explicabilité"
   ]
  },
  {
   "cell_type": "markdown",
   "metadata": {},
   "source": [
    "## Ressources\n",
    "* [PyCaret](https://pycaret.org/)\n",
    "* [Yellowbrick](https://www.scikit-yb.org/en/latest/index.html)\n",
    "* [Machine Learning Explainability](https://www.kaggle.com/learn/machine-learning-explainability)\n",
    "* [PRACTICAL BAYESIAN OPTIMIZATION OF MACHINE LEARNING ALGORITHMS](https://arxiv.org/pdf/1206.2944.pdf)\n",
    "\n"
   ]
  },
  {
   "cell_type": "markdown",
   "metadata": {},
   "source": [
    "# Module 4 : Présentez votre solution "
   ]
  },
  {
   "cell_type": "markdown",
   "metadata": {},
   "source": [
    "## Documentation\n",
    "Documentez ce que vous avez fait\n"
   ]
  },
  {
   "cell_type": "markdown",
   "metadata": {},
   "source": [
    "## Créez une belle présentation. \n",
    "* Assurez-vous de mettre en évidence la vue d’ensemble du probleme.\n",
    "* Expliquez pourquoi votre solution atteint l'objectif commercial. \n"
   ]
  },
  {
   "cell_type": "markdown",
   "metadata": {},
   "source": [
    "## Apprentissage\n",
    "* Présenter les points intéressants que vous avez remarqués en cours de route. \n",
    "* Décrivez ce qui a fonctionné et ce qui n'a pas fonctionné. \n",
    "* Énumérez vos hypothèses et les limites de votre système. \n"
   ]
  },
  {
   "cell_type": "markdown",
   "metadata": {},
   "source": [
    "## Communication / Blogging\n",
    "Assurez-vous que vos principales constatations sont communiquées grâce à de belles visualisations ou à des conclusions faciles à retenir (par exemple, « le revenu médian est le prédicteur numéro un des prix des logements»).\n",
    "### Blogging\n",
    "Medium et Github\n",
    "\n"
   ]
  },
  {
   "cell_type": "markdown",
   "metadata": {},
   "source": [
    "## Ressources\n",
    "* [Advice for Better Blog Posts](https://www.fast.ai/2019/05/13/blogging-advice/)\n"
   ]
  },
  {
   "cell_type": "markdown",
   "metadata": {},
   "source": [
    "# Module 5 : Produit Data (MVP)"
   ]
  },
  {
   "cell_type": "markdown",
   "metadata": {},
   "source": [
    "## Conception \n",
    "À quoi ressemble votre produit minimum viable (MVP)? Incluez des croquis de votre produit.\n"
   ]
  },
  {
   "cell_type": "markdown",
   "metadata": {},
   "source": [
    "## Cas d'utilisation \n",
    "Pour quelle persona concevez-vous? Pouvez-vous décrire les principaux cas d'utilisation au niveau épique (epic) auxquels vos produits s'adressent? Comment les utilisateurs accèderont-ils à ce produit?\n"
   ]
  },
  {
   "cell_type": "markdown",
   "metadata": {},
   "source": [
    "## Roll-out\n",
    "À quoi ressemble le plan de mise sur le marché?\n"
   ]
  },
  {
   "cell_type": "markdown",
   "metadata": {},
   "source": [
    "## Ressources\n",
    "* [Desigining great data products](https://www.oreilly.com/radar/drivetrain-approach-data-products/)\n",
    "* [Data project checklist](https://www.fast.ai/2020/01/07/data-questionnaire/)\n",
    "* [From Predictive Modelling to Optimization](https://www.youtube.com/watch?v=vYrWTDxoeGg&feature=emb_logo)\n"
   ]
  },
  {
   "cell_type": "markdown",
   "metadata": {},
   "source": [
    "# Module 6 : Évaluation et Déploiement"
   ]
  },
  {
   "cell_type": "markdown",
   "metadata": {},
   "source": [
    "## Production\n",
    "### Mise en place \n",
    "Préparez votre solution pour la production (connectez-la aux entrées de données de production, écrivez des tests unitaires, etc.).\n"
   ]
  },
  {
   "cell_type": "markdown",
   "metadata": {},
   "source": [
    "### Surveillance\n",
    "* Écrivez un code de surveillance pour vérifier les performances en direct de votre système à intervalles réguliers et déclencher des alertes en cas de chute. \n",
    "* Attention également à la dégradation lente: les modèles ont tendance à se dégrader à mesure que les données évoluent.\n",
    "* La mesure des performances peut nécessiter un pipeline humain (par exemple via un service de crowdsourcing). \n",
    "* Surveillez également la qualité de vos entrées (par exemple, un capteur défectueux envoyant des valeurs aléatoires ou la sortie d’une autre équipe devenant obsolète). Ceci est particulièrement important pour les systèmes d'apprentissage en ligne. \n",
    "* Comment prévoyez-vous de surveiller ou d'atténuer les biais indésirables dans votre modèle?\n"
   ]
  },
  {
   "cell_type": "markdown",
   "metadata": {},
   "source": [
    "## Concevoir pour la longévité\n",
    "* Comment pourriez-vous améliorer votre produit à long terme? \n",
    "* En quoi les données du monde réel peuvent-elles être différentes des données d’entrainement? \n",
    "* Comment votre produit apprendra-t-il des nouvelles données? \n",
    "* Comment pourriez-vous utiliser les tests A / B pour améliorer votre produit?\n",
    "* Réentraînez régulièrement vos modèles sur de nouvelles données (automatisez autant que possible).\n"
   ]
  },
  {
   "cell_type": "markdown",
   "metadata": {},
   "source": [
    "## Ressources"
   ]
  },
  {
   "cell_type": "markdown",
   "metadata": {},
   "source": [
    "# Module 7 (optionnel) : Structurer et automatiser"
   ]
  },
  {
   "cell_type": "markdown",
   "metadata": {},
   "source": [
    "## Structurer le code\n",
    "### Writing code\n",
    "### Versioning\n",
    "### Testing\n",
    "### OOP\n"
   ]
  },
  {
   "cell_type": "markdown",
   "metadata": {},
   "source": [
    "## Data Ingineering (pipelines)"
   ]
  },
  {
   "cell_type": "markdown",
   "metadata": {},
   "source": [
    "## Ressources"
   ]
  },
  {
   "cell_type": "markdown",
   "metadata": {},
   "source": [
    "# Etapes suivantes"
   ]
  },
  {
   "cell_type": "code",
   "execution_count": null,
   "metadata": {},
   "outputs": [],
   "source": []
  },
  {
   "cell_type": "code",
   "execution_count": null,
   "metadata": {},
   "outputs": [],
   "source": []
  },
  {
   "cell_type": "markdown",
   "metadata": {},
   "source": [
    "# Ressources.\n",
    "## Ressources generales\n",
    "* [Ressources en Data Science](https://www.uluumy.com/courses/ressources-en-data-science)\n",
    "\n",
    "## Jupyter Notebook\n",
    "* [Markdown quick reference cheat sheet](https://wordpress.com/support/markdown-quick-reference/)\n",
    "\n",
    "## Versioning\n",
    "* [How To Use GitHub with VS Code in 2020 | Commit & Push | Part 1](https://youtu.be/3Tn58KQvWtU)"
   ]
  },
  {
   "cell_type": "markdown",
   "metadata": {},
   "source": []
  }
 ]
}